{
 "cells": [
  {
   "cell_type": "markdown",
   "metadata": {},
   "source": [
    "# Joint species distribution modelling of birds in California"
   ]
  },
  {
   "cell_type": "markdown",
   "metadata": {},
   "source": [
    "# The Question: Do four different species in California compete?"
   ]
  },
  {
   "cell_type": "markdown",
   "metadata": {},
   "source": [
    "# The Data:"
   ]
  },
  {
   "cell_type": "markdown",
   "metadata": {},
   "source": [
    "# Information about the bird species was taken from the eBird database, opened in Open Refine, and cleaned. Here the data was cut down to just observations from California from 1996-2016."
   ]
  },
  {
   "cell_type": "code",
   "execution_count": 10,
   "metadata": {
    "collapsed": false
   },
   "outputs": [
    {
     "ename": "ERROR",
     "evalue": "Error in eval(expr, envir, enclos): object 'birdDist' not found\n",
     "output_type": "error",
     "traceback": [
      "Error in eval(expr, envir, enclos): object 'birdDist' not found\nTraceback:\n"
     ]
    }
   ],
   "source": []
  },
  {
   "cell_type": "markdown",
   "metadata": {},
   "source": [
    "# In R, the seperate bird data were converted into the same format and combined into one csv file."
   ]
  },
  {
   "cell_type": "code",
   "execution_count": 11,
   "metadata": {
    "collapsed": false,
    "scrolled": true
   },
   "outputs": [
    {
     "data": {
      "text/html": [
       "<table>\n",
       "<thead><tr><th scope=col>COMMON_NAME</th><th scope=col>LATITUDE</th><th scope=col>LONGITUDE</th></tr></thead>\n",
       "<tbody>\n",
       "\t<tr><td>Mountain_Chickadee</td><td>38.41718          </td><td>-119.7492         </td></tr>\n",
       "\t<tr><td>Mountain_Chickadee</td><td>38.74602          </td><td>-119.7780         </td></tr>\n",
       "\t<tr><td>Mountain_Chickadee</td><td>38.59111          </td><td>-119.7846         </td></tr>\n",
       "\t<tr><td>Mountain_Chickadee</td><td>38.69454          </td><td>-119.7800         </td></tr>\n",
       "\t<tr><td>Mountain_Chickadee</td><td>38.68812          </td><td>-120.0670         </td></tr>\n",
       "\t<tr><td>Mountain_Chickadee</td><td>38.68812          </td><td>-120.0670         </td></tr>\n",
       "</tbody>\n",
       "</table>\n"
      ],
      "text/latex": [
       "\\begin{tabular}{r|lll}\n",
       " COMMON\\_NAME & LATITUDE & LONGITUDE\\\\\n",
       "\\hline\n",
       "\t Mountain\\_Chickadee & 38.41718             & -119.7492           \\\\\n",
       "\t Mountain\\_Chickadee & 38.74602             & -119.7780           \\\\\n",
       "\t Mountain\\_Chickadee & 38.59111             & -119.7846           \\\\\n",
       "\t Mountain\\_Chickadee & 38.69454             & -119.7800           \\\\\n",
       "\t Mountain\\_Chickadee & 38.68812             & -120.0670           \\\\\n",
       "\t Mountain\\_Chickadee & 38.68812             & -120.0670           \\\\\n",
       "\\end{tabular}\n"
      ],
      "text/markdown": [
       "\n",
       "COMMON_NAME | LATITUDE | LONGITUDE | \n",
       "|---|---|---|---|---|---|\n",
       "| Mountain_Chickadee | 38.41718           | -119.7492          | \n",
       "| Mountain_Chickadee | 38.74602           | -119.7780          | \n",
       "| Mountain_Chickadee | 38.59111           | -119.7846          | \n",
       "| Mountain_Chickadee | 38.69454           | -119.7800          | \n",
       "| Mountain_Chickadee | 38.68812           | -120.0670          | \n",
       "| Mountain_Chickadee | 38.68812           | -120.0670          | \n",
       "\n",
       "\n"
      ],
      "text/plain": [
       "  COMMON_NAME        LATITUDE LONGITUDE\n",
       "1 Mountain_Chickadee 38.41718 -119.7492\n",
       "2 Mountain_Chickadee 38.74602 -119.7780\n",
       "3 Mountain_Chickadee 38.59111 -119.7846\n",
       "4 Mountain_Chickadee 38.69454 -119.7800\n",
       "5 Mountain_Chickadee 38.68812 -120.0670\n",
       "6 Mountain_Chickadee 38.68812 -120.0670"
      ]
     },
     "metadata": {},
     "output_type": "display_data"
    },
    {
     "data": {
      "text/html": [
       "<table>\n",
       "<thead><tr><th scope=col>COMMON_NAME</th><th scope=col>LATITUDE</th><th scope=col>LONGITUDE</th></tr></thead>\n",
       "<tbody>\n",
       "\t<tr><td>Mountain_Bluebird</td><td>37.68668         </td><td>-121.6401        </td></tr>\n",
       "\t<tr><td>Mountain_Bluebird</td><td>37.69095         </td><td>-121.5934        </td></tr>\n",
       "\t<tr><td>Mountain_Bluebird</td><td>37.68668         </td><td>-121.6401        </td></tr>\n",
       "\t<tr><td>Mountain_Bluebird</td><td>37.69401         </td><td>-121.6765        </td></tr>\n",
       "\t<tr><td>Mountain_Bluebird</td><td>37.69095         </td><td>-121.5934        </td></tr>\n",
       "\t<tr><td>Mountain_Bluebird</td><td>37.69095         </td><td>-121.5934        </td></tr>\n",
       "</tbody>\n",
       "</table>\n"
      ],
      "text/latex": [
       "\\begin{tabular}{r|lll}\n",
       " COMMON\\_NAME & LATITUDE & LONGITUDE\\\\\n",
       "\\hline\n",
       "\t Mountain\\_Bluebird & 37.68668            & -121.6401          \\\\\n",
       "\t Mountain\\_Bluebird & 37.69095            & -121.5934          \\\\\n",
       "\t Mountain\\_Bluebird & 37.68668            & -121.6401          \\\\\n",
       "\t Mountain\\_Bluebird & 37.69401            & -121.6765          \\\\\n",
       "\t Mountain\\_Bluebird & 37.69095            & -121.5934          \\\\\n",
       "\t Mountain\\_Bluebird & 37.69095            & -121.5934          \\\\\n",
       "\\end{tabular}\n"
      ],
      "text/markdown": [
       "\n",
       "COMMON_NAME | LATITUDE | LONGITUDE | \n",
       "|---|---|---|---|---|---|\n",
       "| Mountain_Bluebird | 37.68668          | -121.6401         | \n",
       "| Mountain_Bluebird | 37.69095          | -121.5934         | \n",
       "| Mountain_Bluebird | 37.68668          | -121.6401         | \n",
       "| Mountain_Bluebird | 37.69401          | -121.6765         | \n",
       "| Mountain_Bluebird | 37.69095          | -121.5934         | \n",
       "| Mountain_Bluebird | 37.69095          | -121.5934         | \n",
       "\n",
       "\n"
      ],
      "text/plain": [
       "  COMMON_NAME       LATITUDE LONGITUDE\n",
       "1 Mountain_Bluebird 37.68668 -121.6401\n",
       "2 Mountain_Bluebird 37.69095 -121.5934\n",
       "3 Mountain_Bluebird 37.68668 -121.6401\n",
       "4 Mountain_Bluebird 37.69401 -121.6765\n",
       "5 Mountain_Bluebird 37.69095 -121.5934\n",
       "6 Mountain_Bluebird 37.69095 -121.5934"
      ]
     },
     "metadata": {},
     "output_type": "display_data"
    },
    {
     "data": {
      "text/html": [
       "<table>\n",
       "<thead><tr><th scope=col>COMMON_NAME</th><th scope=col>LATITUDE</th><th scope=col>LONGITUDE</th></tr></thead>\n",
       "<tbody>\n",
       "\t<tr><td>Lewis_Woodpecker</td><td>37.55342        </td><td>-121.5735       </td></tr>\n",
       "\t<tr><td>Lewis_Woodpecker</td><td>37.55342        </td><td>-121.5735       </td></tr>\n",
       "\t<tr><td>Lewis_Woodpecker</td><td>37.55342        </td><td>-121.5735       </td></tr>\n",
       "\t<tr><td>Lewis_Woodpecker</td><td>37.55342        </td><td>-121.5735       </td></tr>\n",
       "\t<tr><td>Lewis_Woodpecker</td><td>37.55342        </td><td>-121.5735       </td></tr>\n",
       "\t<tr><td>Lewis_Woodpecker</td><td>37.55342        </td><td>-121.5735       </td></tr>\n",
       "</tbody>\n",
       "</table>\n"
      ],
      "text/latex": [
       "\\begin{tabular}{r|lll}\n",
       " COMMON\\_NAME & LATITUDE & LONGITUDE\\\\\n",
       "\\hline\n",
       "\t Lewis\\_Woodpecker & 37.55342           & -121.5735         \\\\\n",
       "\t Lewis\\_Woodpecker & 37.55342           & -121.5735         \\\\\n",
       "\t Lewis\\_Woodpecker & 37.55342           & -121.5735         \\\\\n",
       "\t Lewis\\_Woodpecker & 37.55342           & -121.5735         \\\\\n",
       "\t Lewis\\_Woodpecker & 37.55342           & -121.5735         \\\\\n",
       "\t Lewis\\_Woodpecker & 37.55342           & -121.5735         \\\\\n",
       "\\end{tabular}\n"
      ],
      "text/markdown": [
       "\n",
       "COMMON_NAME | LATITUDE | LONGITUDE | \n",
       "|---|---|---|---|---|---|\n",
       "| Lewis_Woodpecker | 37.55342         | -121.5735        | \n",
       "| Lewis_Woodpecker | 37.55342         | -121.5735        | \n",
       "| Lewis_Woodpecker | 37.55342         | -121.5735        | \n",
       "| Lewis_Woodpecker | 37.55342         | -121.5735        | \n",
       "| Lewis_Woodpecker | 37.55342         | -121.5735        | \n",
       "| Lewis_Woodpecker | 37.55342         | -121.5735        | \n",
       "\n",
       "\n"
      ],
      "text/plain": [
       "  COMMON_NAME      LATITUDE LONGITUDE\n",
       "1 Lewis_Woodpecker 37.55342 -121.5735\n",
       "2 Lewis_Woodpecker 37.55342 -121.5735\n",
       "3 Lewis_Woodpecker 37.55342 -121.5735\n",
       "4 Lewis_Woodpecker 37.55342 -121.5735\n",
       "5 Lewis_Woodpecker 37.55342 -121.5735\n",
       "6 Lewis_Woodpecker 37.55342 -121.5735"
      ]
     },
     "metadata": {},
     "output_type": "display_data"
    },
    {
     "data": {
      "text/html": [
       "<table>\n",
       "<thead><tr><th scope=col>COMMON_NAME</th><th scope=col>LATITUDE</th><th scope=col>LONGITUDE</th></tr></thead>\n",
       "<tbody>\n",
       "\t<tr><td>House_Wren</td><td>37.87163  </td><td>-122.2731 </td></tr>\n",
       "\t<tr><td>House_Wren</td><td>37.87163  </td><td>-122.2731 </td></tr>\n",
       "\t<tr><td>House_Wren</td><td>37.55342  </td><td>-121.5735 </td></tr>\n",
       "\t<tr><td>House_Wren</td><td>37.55342  </td><td>-121.5735 </td></tr>\n",
       "\t<tr><td>House_Wren</td><td>37.51590  </td><td>-121.8318 </td></tr>\n",
       "\t<tr><td>House_Wren</td><td>37.80043  </td><td>-122.1547 </td></tr>\n",
       "</tbody>\n",
       "</table>\n"
      ],
      "text/latex": [
       "\\begin{tabular}{r|lll}\n",
       " COMMON\\_NAME & LATITUDE & LONGITUDE\\\\\n",
       "\\hline\n",
       "\t House\\_Wren & 37.87163     & -122.2731   \\\\\n",
       "\t House\\_Wren & 37.87163     & -122.2731   \\\\\n",
       "\t House\\_Wren & 37.55342     & -121.5735   \\\\\n",
       "\t House\\_Wren & 37.55342     & -121.5735   \\\\\n",
       "\t House\\_Wren & 37.51590     & -121.8318   \\\\\n",
       "\t House\\_Wren & 37.80043     & -122.1547   \\\\\n",
       "\\end{tabular}\n"
      ],
      "text/markdown": [
       "\n",
       "COMMON_NAME | LATITUDE | LONGITUDE | \n",
       "|---|---|---|---|---|---|\n",
       "| House_Wren | 37.87163   | -122.2731  | \n",
       "| House_Wren | 37.87163   | -122.2731  | \n",
       "| House_Wren | 37.55342   | -121.5735  | \n",
       "| House_Wren | 37.55342   | -121.5735  | \n",
       "| House_Wren | 37.51590   | -121.8318  | \n",
       "| House_Wren | 37.80043   | -122.1547  | \n",
       "\n",
       "\n"
      ],
      "text/plain": [
       "  COMMON_NAME LATITUDE LONGITUDE\n",
       "1 House_Wren  37.87163 -122.2731\n",
       "2 House_Wren  37.87163 -122.2731\n",
       "3 House_Wren  37.55342 -121.5735\n",
       "4 House_Wren  37.55342 -121.5735\n",
       "5 House_Wren  37.51590 -121.8318\n",
       "6 House_Wren  37.80043 -122.1547"
      ]
     },
     "metadata": {},
     "output_type": "display_data"
    },
    {
     "data": {
      "text/html": [
       "<table>\n",
       "<thead><tr><th scope=col>COMMON_NAME</th><th scope=col>LATITUDE</th><th scope=col>LONGITUDE</th></tr></thead>\n",
       "<tbody>\n",
       "\t<tr><td>Black_backed_Woodpecker</td><td>37.72492               </td><td>-119.0192              </td></tr>\n",
       "\t<tr><td>Black_backed_Woodpecker</td><td>37.72492               </td><td>-119.0192              </td></tr>\n",
       "\t<tr><td>Black_backed_Woodpecker</td><td>38.06060               </td><td>-118.9246              </td></tr>\n",
       "\t<tr><td>Black_backed_Woodpecker</td><td>37.88705               </td><td>-118.9596              </td></tr>\n",
       "\t<tr><td>Black_backed_Woodpecker</td><td>38.06060               </td><td>-118.9246              </td></tr>\n",
       "\t<tr><td>Black_backed_Woodpecker</td><td>37.89799               </td><td>-118.9816              </td></tr>\n",
       "</tbody>\n",
       "</table>\n"
      ],
      "text/latex": [
       "\\begin{tabular}{r|lll}\n",
       " COMMON\\_NAME & LATITUDE & LONGITUDE\\\\\n",
       "\\hline\n",
       "\t Black\\_backed\\_Woodpecker & 37.72492                    & -119.0192                  \\\\\n",
       "\t Black\\_backed\\_Woodpecker & 37.72492                    & -119.0192                  \\\\\n",
       "\t Black\\_backed\\_Woodpecker & 38.06060                    & -118.9246                  \\\\\n",
       "\t Black\\_backed\\_Woodpecker & 37.88705                    & -118.9596                  \\\\\n",
       "\t Black\\_backed\\_Woodpecker & 38.06060                    & -118.9246                  \\\\\n",
       "\t Black\\_backed\\_Woodpecker & 37.89799                    & -118.9816                  \\\\\n",
       "\\end{tabular}\n"
      ],
      "text/markdown": [
       "\n",
       "COMMON_NAME | LATITUDE | LONGITUDE | \n",
       "|---|---|---|---|---|---|\n",
       "| Black_backed_Woodpecker | 37.72492                | -119.0192               | \n",
       "| Black_backed_Woodpecker | 37.72492                | -119.0192               | \n",
       "| Black_backed_Woodpecker | 38.06060                | -118.9246               | \n",
       "| Black_backed_Woodpecker | 37.88705                | -118.9596               | \n",
       "| Black_backed_Woodpecker | 38.06060                | -118.9246               | \n",
       "| Black_backed_Woodpecker | 37.89799                | -118.9816               | \n",
       "\n",
       "\n"
      ],
      "text/plain": [
       "  COMMON_NAME             LATITUDE LONGITUDE\n",
       "1 Black_backed_Woodpecker 37.72492 -119.0192\n",
       "2 Black_backed_Woodpecker 37.72492 -119.0192\n",
       "3 Black_backed_Woodpecker 38.06060 -118.9246\n",
       "4 Black_backed_Woodpecker 37.88705 -118.9596\n",
       "5 Black_backed_Woodpecker 38.06060 -118.9246\n",
       "6 Black_backed_Woodpecker 37.89799 -118.9816"
      ]
     },
     "metadata": {},
     "output_type": "display_data"
    },
    {
     "data": {
      "text/html": [
       "<table>\n",
       "<thead><tr><th></th><th scope=col>species</th><th scope=col>lat</th><th scope=col>long</th></tr></thead>\n",
       "<tbody>\n",
       "\t<tr><th scope=row>1</th><td>House_Wren</td><td>37.87163  </td><td>-122.2731 </td></tr>\n",
       "\t<tr><th scope=row>3</th><td>House_Wren</td><td>37.55342  </td><td>-121.5735 </td></tr>\n",
       "\t<tr><th scope=row>5</th><td>House_Wren</td><td>37.51590  </td><td>-121.8318 </td></tr>\n",
       "\t<tr><th scope=row>6</th><td>House_Wren</td><td>37.80043  </td><td>-122.1547 </td></tr>\n",
       "\t<tr><th scope=row>8</th><td>House_Wren</td><td>37.83252  </td><td>-122.2355 </td></tr>\n",
       "\t<tr><th scope=row>9</th><td>House_Wren</td><td>37.87402  </td><td>-122.2378 </td></tr>\n",
       "</tbody>\n",
       "</table>\n"
      ],
      "text/latex": [
       "\\begin{tabular}{r|lll}\n",
       "  & species & lat & long\\\\\n",
       "\\hline\n",
       "\t1 & House\\_Wren & 37.87163     & -122.2731   \\\\\n",
       "\t3 & House\\_Wren & 37.55342     & -121.5735   \\\\\n",
       "\t5 & House\\_Wren & 37.51590     & -121.8318   \\\\\n",
       "\t6 & House\\_Wren & 37.80043     & -122.1547   \\\\\n",
       "\t8 & House\\_Wren & 37.83252     & -122.2355   \\\\\n",
       "\t9 & House\\_Wren & 37.87402     & -122.2378   \\\\\n",
       "\\end{tabular}\n"
      ],
      "text/markdown": [
       "\n",
       "| <!--/--> | species | lat | long | \n",
       "|---|---|---|---|---|---|\n",
       "| 1 | House_Wren | 37.87163   | -122.2731  | \n",
       "| 3 | House_Wren | 37.55342   | -121.5735  | \n",
       "| 5 | House_Wren | 37.51590   | -121.8318  | \n",
       "| 6 | House_Wren | 37.80043   | -122.1547  | \n",
       "| 8 | House_Wren | 37.83252   | -122.2355  | \n",
       "| 9 | House_Wren | 37.87402   | -122.2378  | \n",
       "\n",
       "\n"
      ],
      "text/plain": [
       "  species    lat      long     \n",
       "1 House_Wren 37.87163 -122.2731\n",
       "3 House_Wren 37.55342 -121.5735\n",
       "5 House_Wren 37.51590 -121.8318\n",
       "6 House_Wren 37.80043 -122.1547\n",
       "8 House_Wren 37.83252 -122.2355\n",
       "9 House_Wren 37.87402 -122.2378"
      ]
     },
     "metadata": {},
     "output_type": "display_data"
    },
    {
     "data": {
      "image/png": "[encoded data removed]",
      "text/plain": [
       "plot without title"
      ]
     },
     "metadata": {},
     "output_type": "display_data"
    }
   ],
   "source": [
    "#####################################################\n",
    "##\n",
    "## change multiple bird script to combined bird csv\n",
    "##\n",
    "####################################################\n",
    "\n",
    "#fix MOCH\n",
    "mountainchickadee <-read.table(\"C://Users/kate.reid709/Documents/Data/mountain_chick.csv\", header = TRUE, sep = \",\")\n",
    "\n",
    "head(mountainchickadee)\n",
    "\n",
    "mountainchickadee<-setNames(mountainchickadee, c(\"species\", \"lat\", \"long\")) #hooray it's fixed\n",
    "\n",
    "MOCH<-na.omit(mountainchickadee)\n",
    "\n",
    "MOCH<- unique(MOCH)\n",
    "\n",
    "#fix Mountain bluebird MOBL\n",
    "\n",
    "mountainbluebird <-read.table(\"C://Users/kate.reid709/Documents/Data/mountain_bluebird.csv\", header = TRUE, sep = \",\")\n",
    "\n",
    "head(mountainbluebird)\n",
    "mountainbluebird<-setNames(mountainbluebird, c(\"species\", \"lat\", \"long\")) #hooray it's fixed\n",
    "\n",
    "MOBL<-na.omit(mountainbluebird)\n",
    "\n",
    "MOBL<- unique(MOBL)\n",
    "\n",
    "#fix the Lewis's woodpecker LEWO\n",
    "\n",
    "lewiswoodpecker <-read.table(\"C://Users/kate.reid709/Documents/Data/lewis_wp.csv\", header = TRUE, sep = \",\")\n",
    "\n",
    "head(lewiswoodpecker)\n",
    "\n",
    "lewiswoodpecker<-setNames(lewiswoodpecker, c(\"species\", \"lat\", \"long\")) #hooray it's fixed\n",
    "\n",
    "LEWO<-na.omit(lewiswoodpecker)\n",
    "\n",
    "LEWO<- unique(LEWO)\n",
    "\n",
    "#fix housewren data\n",
    "\n",
    "housewren <-read.table(\"C://Users/kate.reid709/Documents/Data/house_wren.csv\", header = TRUE, sep = \",\")\n",
    "\n",
    "head(housewren)\n",
    "\n",
    "housewren<-setNames(housewren, c(\"species\", \"lat\", \"long\")) #hooray it's fixed\n",
    "HOWR<-na.omit(housewren)\n",
    "\n",
    "HOWR<- unique(HOWR)\n",
    "\n",
    "#fix black-backed woodpecker BBWO\n",
    "\n",
    "\n",
    "black <-read.table(\"C://Users/kate.reid709/Documents/Data/black_back_wp.csv\", header = TRUE, sep = \",\")\n",
    "\n",
    "head(black)\n",
    "\n",
    "black<-setNames(black, c(\"species\", \"lat\", \"long\")) #hooray it's fixed\n",
    "BBWO<-na.omit(black)\n",
    "\n",
    "BBWO<- unique(BBWO)\n",
    "\n",
    "allbird<- rbind(HOWR,BBWO,LEWO,MOCH,MOBL) #rbind all cleaned scripts together\n",
    "\n",
    "plot(allbird$long, allbird$lat) #what's the lat long plot look like?\n",
    "\n",
    "head(allbird)\n",
    "\n",
    "write.csv(allbird,file = \"C://Users/kate.reid709/Documents/Data/allbird_combined.csv\", row.names = FALSE)\n",
    "\n"
   ]
  },
  {
   "cell_type": "markdown",
   "metadata": {},
   "source": [
    "# Climate data was taken from World Clim, cleaned in R and the precipitation and temperture were formed into raster layers."
   ]
  },
  {
   "cell_type": "code",
   "execution_count": null,
   "metadata": {
    "collapsed": true
   },
   "outputs": [],
   "source": [
    "insert code"
   ]
  },
  {
   "cell_type": "markdown",
   "metadata": {},
   "source": [
    "#  A Raster layer for land use data was also created in R using a US gov tif image cropped for the Calfornia region.\n"
   ]
  },
  {
   "cell_type": "code",
   "execution_count": null,
   "metadata": {
    "collapsed": true
   },
   "outputs": [],
   "source": [
    "Insert code"
   ]
  },
  {
   "cell_type": "markdown",
   "metadata": {},
   "source": [
    "# To get the pseudoabsences "
   ]
  },
  {
   "cell_type": "code",
   "execution_count": null,
   "metadata": {
    "collapsed": true
   },
   "outputs": [],
   "source": [
    "insert code"
   ]
  },
  {
   "cell_type": "markdown",
   "metadata": {},
   "source": [
    "# Script"
   ]
  }
 ],
 "metadata": {
  "kernelspec": {
   "display_name": "R",
   "language": "R",
   "name": "ir"
  },
  "language_info": {
   "codemirror_mode": "r",
   "file_extension": ".r",
   "mimetype": "text/x-r-source",
   "name": "R",
   "pygments_lexer": "r",
   "version": "3.3.2"
  }
 },
 "nbformat": 4,
 "nbformat_minor": 2
}
